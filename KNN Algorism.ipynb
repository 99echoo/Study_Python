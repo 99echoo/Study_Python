{
 "cells": [
  {
   "cell_type": "code",
   "execution_count": 4,
   "metadata": {},
   "outputs": [
    {
     "name": "stdout",
     "output_type": "stream",
     "text": [
      "0.0\n"
     ]
    }
   ],
   "source": [
    "import numpy as np\n",
    "import statistics\n",
    "\n",
    "X_train=np.array([[3.,3.5], [4.,5.],[6.,4.],[6.,6.],[6.5,6.2]])\n",
    "y_train=np.array([0,0,1,1,1])\n",
    "x_test=np.array([5.,5.])\n",
    "\n",
    "# 두 점 사이의 유클리드 거리를 계산하는 함수\n",
    "def euclidean_dist(a,b):\n",
    "    return np.sqrt(np.sum((a-b)**2))\n",
    "\n",
    "# 분류모델\n",
    "def knn_classify(X_train,y_train,x_test,k=3):\n",
    "    n=len(X_train)\n",
    "    distances=np.zeros(n)\n",
    "    labels = np.zeros(n)\n",
    "    for i in range(n):\n",
    "        distances[i] = euclidean_dist(X_train[i], x_test) # 두 점 사이의 거리 계산\n",
    "        labels[i] = y_train[i] # 타겟값 설정\n",
    "    \n",
    "    sorted_indices = np.argsort(distances) # 거리에 따라 인덱스를 정렬\n",
    "    nearest_neighbors = sorted_indices[:k] # 가장 가까운 k개의 이웃을 찾음\n",
    "    neighbor_labels = labels[nearest_neighbors] # 가장 가까운 이웃들의 레이블을 가져옴\n",
    "    predicted_label = statistics.mode(neighbor_labels)# 가장 흔한 레이블을 예측 레이블로 선택\n",
    "    \n",
    "    return predicted_label\n",
    "\n",
    "y_pred=knn_classify(X_train, y_train, x_test, k=1)\n",
    "print(y_pred) # 출력: 0"
   ]
  },
  {
   "cell_type": "code",
   "execution_count": 5,
   "metadata": {},
   "outputs": [
    {
     "name": "stdout",
     "output_type": "stream",
     "text": [
      "0.484, 3.253\n"
     ]
    }
   ],
   "source": [
    "import numpy as np\n",
    "\n",
    "feature = np.array([3.7, 9.5, 7.3, 5.9, 1.6])\n",
    "target = np.array([13.8, 32.5, 22.8, 18.9, 5.5])\n",
    "\n",
    "def fit_simple_linear_regression(x, y):\n",
    "    n = len(x)\n",
    "    x_bar = np.mean(x)  # x의 평균\n",
    "    y_bar = np.mean(y)  # y의 평균\n",
    "    \n",
    "    # 분자: 각 x_i와 x의 평균의 차, 각 y_i와 y의 평균의 차의 곱의 합\n",
    "    numerator = np.sum((x - x_bar) * (y - y_bar))\n",
    "    \n",
    "    # 분모: 각 x_i와 x의 평균의 차의 제곱의 합\n",
    "    denominator = np.sum((x - x_bar)**2)\n",
    "    \n",
    "    # 기울기 b1 계산\n",
    "    b1 = numerator / denominator\n",
    "    \n",
    "    # 절편 b0 계산\n",
    "    b0 = y_bar - b1 * x_bar\n",
    "    \n",
    "    return b0, b1\n",
    "\n",
    "betas = fit_simple_linear_regression(x=feature, y=target)\n",
    "print(f\"{betas[0]:.3f}, {betas[1]:.3f}\")  # 출력: 0.484, 3.253"
   ]
  }
 ],
 "metadata": {
  "kernelspec": {
   "display_name": "base",
   "language": "python",
   "name": "python3"
  },
  "language_info": {
   "codemirror_mode": {
    "name": "ipython",
    "version": 3
   },
   "file_extension": ".py",
   "mimetype": "text/x-python",
   "name": "python",
   "nbconvert_exporter": "python",
   "pygments_lexer": "ipython3",
   "version": "3.9.13"
  }
 },
 "nbformat": 4,
 "nbformat_minor": 2
}
