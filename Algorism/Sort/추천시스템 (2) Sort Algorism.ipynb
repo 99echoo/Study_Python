{
 "cells": [
  {
   "cell_type": "code",
   "execution_count": 6,
   "id": "db792ce4",
   "metadata": {},
   "outputs": [
    {
     "name": "stdout",
     "output_type": "stream",
     "text": [
      "List before sorting: [6, 9, 2, 5, 3, 7, 1, 8, 0, 4]\n",
      "List after sorting: [0, 1, 2, 3, 4, 5, 6, 7, 8, 9]\n"
     ]
    }
   ],
   "source": [
    "### sort 알고리즘\n",
    "\n",
    "def performlnsertionSort(lst):\n",
    "    for itr1 in range(2,len(lst)):\n",
    "        currlndex = itr1\n",
    "        for itr2 in range(itr1-1,-1,-1):\n",
    "            if lst[currlndex] < lst[itr2]:\n",
    "                lst[currlndex],lst[itr2] = lst[itr2],lst[currlndex]\n",
    "                currlndex = itr2\n",
    "            else :\n",
    "                break\n",
    "    print(\"List after sorting:\",lst)\n",
    "\n",
    "\n",
    "lstNumbers = [6,9,2,5,3,7,1,8,0,4]\n",
    "print(\"List before sorting:\", lstNumbers)\n",
    "performlnsertionSort(lstNumbers)"
   ]
  },
  {
   "cell_type": "code",
   "execution_count": 25,
   "id": "39dd736d",
   "metadata": {},
   "outputs": [
    {
     "name": "stdout",
     "output_type": "stream",
     "text": [
      "List before sorting: [7, 4, 9, 8, 1, 5, 6, 0, 3, 2]\n",
      "List after sorting: [8, 5, 9, 4, 1, 7, 6, 0, 3, 2]\n"
     ]
    }
   ],
   "source": [
    "import random\n",
    "def performSelectionSort(lst):\n",
    "    for itr1 in range(0,len(lst)):\n",
    "        minIndex = 0\n",
    "        for itr2 in range(itr1+1,len(lst)):\n",
    "            if lst[minIndex] < lst[itr2]:\n",
    "                minIndex = itr2\n",
    "                \n",
    "                lst[itr1], lst[minIndex] = lst[minIndex], lst[itr1]\n",
    "    print(\"List after sorting:\",lst)\n",
    "\n",
    "N= 10\n",
    "lstNumbers = list(range(N))\n",
    "random.shuffle(lstNumbers)\n",
    "\n",
    "print(\"List before sorting:\",lstNumbers)\n",
    "performSelectionSort(lstNumbers)"
   ]
  },
  {
   "cell_type": "code",
   "execution_count": 32,
   "id": "206a606d",
   "metadata": {},
   "outputs": [
    {
     "name": "stdout",
     "output_type": "stream",
     "text": [
      "List before sorting: [3, 0, 7, 2, 1, 8, 5, 9, 6, 4]\n",
      "List after sorting: [0, 1, 2, 3, 4, 5, 6, 7, 8, 9]\n"
     ]
    }
   ],
   "source": [
    "import random\n",
    "\n",
    "def performQuickSort(lst):\n",
    "    if len(lst) <= 1:\n",
    "        return lst\n",
    "    \n",
    "    pivotValue = lst[0]\n",
    "    less = []\n",
    "    greater = []\n",
    "    \n",
    "    for itr in range(1,len(lst)):\n",
    "        if lst[itr] > pivotValue:\n",
    "            greater.append(lst[itr])\n",
    "        elif lst[itr] <= pivotValue:\n",
    "             less.append(lst[itr])\n",
    "            \n",
    "    result = performQuickSort(less) + [pivotValue] + performQuickSort(greater)\n",
    "    return result\n",
    "\n",
    "N = 10\n",
    "lstNumbers = list(range(N))\n",
    "random.shuffle(lstNumbers)\n",
    "print(\"List before sorting:\",lstNumbers)\n",
    "\n",
    "lstNumbers = performQuickSort(lstNumbers)\n",
    "print(\"List after sorting:\",lstNumbers)"
   ]
  },
  {
   "cell_type": "code",
   "execution_count": 39,
   "id": "8e050e59",
   "metadata": {},
   "outputs": [
    {
     "name": "stdout",
     "output_type": "stream",
     "text": [
      "List before sorting: [3, 7, 2, 1, 5, 4, 0, 6, 8, 9]\n",
      "List after sorting: [0, 1, 2, 3, 4, 5, 6, 7, 8, 9]\n"
     ]
    }
   ],
   "source": [
    "import random\n",
    "\n",
    "def performMergeSort(lst):\n",
    "    if len(lst) == 1:\n",
    "        return lst\n",
    "    subLstToSort1 = []\n",
    "    subLstToSort = []\n",
    "    for itr in range(len(lst)):\n",
    "        if itr < len(lst)/2:\n",
    "            subLstTosort1.append(lst[itr])\n",
    "        else:\n",
    "            subLstToSort2.appen(lst[itr])\n",
    "    lst1 = performMergeSort(subLstToSort1)\n",
    "    lst2 = performMergeSort(subLstToSort2)\n",
    "\n",
    "    result = []\n",
    "    idx1, idx2 = 0, 0\n",
    "    for itr in range(len(lst)):\n",
    "        if idx1 == len(lst1):\n",
    "            result.append(lst2[idx2])\n",
    "            idx += 1\n",
    "        elif idx2 == len(lst2):\n",
    "            result.append(lst1[idx1])\n",
    "            idx1 += 1\n",
    "        elif lst1[idx1] < lst2[idx2]:\n",
    "            result.append(lst1[idx1])\n",
    "            idx1 += 1\n",
    "        else:\n",
    "            result.append(lst2[idx2])\n",
    "            idx2 += 1\n",
    "    return result\n",
    "\n",
    "N = 10\n",
    "lstNumbers = list(range(N))\n",
    "random.shuffle(lstNumbers)\n",
    "print(\"List before sorting:\",lstNumbers)\n",
    "\n",
    "lstNumbers = performQuickSort(lstNumbers)\n",
    "print(\"List after sorting:\",lstNumbers)"
   ]
  }
 ],
 "metadata": {
  "kernelspec": {
   "display_name": "Python 3 (ipykernel)",
   "language": "python",
   "name": "python3"
  },
  "language_info": {
   "codemirror_mode": {
    "name": "ipython",
    "version": 3
   },
   "file_extension": ".py",
   "mimetype": "text/x-python",
   "name": "python",
   "nbconvert_exporter": "python",
   "pygments_lexer": "ipython3",
   "version": "3.9.13"
  }
 },
 "nbformat": 4,
 "nbformat_minor": 5
}
