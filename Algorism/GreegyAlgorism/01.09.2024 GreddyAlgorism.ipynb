{
 "cells": [
  {
   "cell_type": "code",
   "execution_count": null,
   "metadata": {},
   "outputs": [],
   "source": [
    "'''\n",
    "1541번\n",
    "세준이는 양수와 +, -, 그리고 괄호를 가지고 식을 만들었다. 그리고 나서 세준이는 괄호를 모두 지웠다.\n",
    "\n",
    "그리고 나서 세준이는 괄호를 적절히 쳐서 이 식의 값을 최소로 만들려고 한다.\n",
    "\n",
    "괄호를 적절히 쳐서 이 식의 값을 최소로 만드는 프로그램을 작성하시오.\n",
    "'''\n",
    "\n",
    "a =input().split('-')\n",
    "\n",
    "minusnum=[]\n",
    "b=[]\n",
    "total=0\n",
    "\n",
    "for i in range(len(a)):\n",
    "    b=a[i].split('+')\n",
    "    sum=0\n",
    "    for j in range(len(b)):\n",
    "        sum+=int(b[j])\n",
    "    minusnum.append(sum)\n",
    "\n",
    "total=minusnum[0]\n",
    "\n",
    "for _ in range(1,len(minusnum)):\n",
    "    total-=int(minusnum[_])\n",
    "\n",
    "print(total)"
   ]
  }
 ],
 "metadata": {
  "language_info": {
   "name": "python"
  }
 },
 "nbformat": 4,
 "nbformat_minor": 2
}
