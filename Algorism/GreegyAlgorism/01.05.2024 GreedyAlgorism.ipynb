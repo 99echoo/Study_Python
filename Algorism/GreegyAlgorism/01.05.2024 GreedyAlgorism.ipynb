{
 "cells": [
  {
   "cell_type": "code",
   "execution_count": 3,
   "metadata": {},
   "outputs": [
    {
     "name": "stdout",
     "output_type": "stream",
     "text": [
      "6\n"
     ]
    }
   ],
   "source": [
    "'''11047번\n",
    "준규가 가지고 있는 동전은 총 N종류이고, 각각의 동전을 매우 많이 가지고 있다.\n",
    "\n",
    "동전을 적절히 사용해서 그 가치의 합을 K로 만들려고 한다. 이때 필요한 동전 개수의 최솟값을 구하는 프로그램을 작성하시오.\n",
    "'''\n",
    "\n",
    "N, A = map(int, input().split())\n",
    "lst = []\n",
    "\n",
    "for _ in range(N):\n",
    "    a = int(input())\n",
    "    a\n",
    "    lst.append(a)\n",
    "\n",
    "lst.sort(reverse=True)\n",
    "\n",
    "\n",
    "answer = 0\n",
    "    \n",
    "for l in range(N):\n",
    "        \n",
    "    answer += A // lst[l]\n",
    "    A %= lst[l]\n",
    "\n",
    "print(answer)"
   ]
  },
  {
   "cell_type": "code",
   "execution_count": null,
   "metadata": {},
   "outputs": [],
   "source": [
    "    for l in range(N):\n",
    "      for i in range(1,1001):\n",
    "        calc = A - lst[l] * i  \n",
    "        calc\n",
    "        if calc > 0:\n",
    "            A - lst[l]\n",
    "            answer += 1\n",
    "        elif calc == 0:\n",
    "            A - lst[l]\n",
    "            answer +=1\n",
    "            break\n",
    "        else:\n",
    "           break\n",
    "    \n",
    "    return answer "
   ]
  }
 ],
 "metadata": {
  "kernelspec": {
   "display_name": "base",
   "language": "python",
   "name": "python3"
  },
  "language_info": {
   "codemirror_mode": {
    "name": "ipython",
    "version": 3
   },
   "file_extension": ".py",
   "mimetype": "text/x-python",
   "name": "python",
   "nbconvert_exporter": "python",
   "pygments_lexer": "ipython3",
   "version": "3.9.13"
  }
 },
 "nbformat": 4,
 "nbformat_minor": 2
}
