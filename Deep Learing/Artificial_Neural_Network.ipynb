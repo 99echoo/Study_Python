{
 "cells": [
  {
   "cell_type": "code",
   "execution_count": 1,
   "metadata": {},
   "outputs": [
    {
     "name": "stdout",
     "output_type": "stream",
     "text": [
      "[-0.82324973  8.60594551]\n"
     ]
    }
   ],
   "source": [
    "import numpy as np\n",
    "\n",
    "x = np.array([1.0, 0.5, -1.5])\n",
    "\n",
    "#층 개수\n",
    "input_size = 3\n",
    "hidden_size = 3\n",
    "output_size = 2\n",
    "\n",
    "#가중치, 편향 설정\n",
    "w1 = np.random.randn(input_size, hidden_size)\n",
    "b1 = np.zeros(hidden_size)\n",
    "w2 = np.random.randn(hidden_size, hidden_size)\n",
    "b2 = np.zeros(hidden_size)\n",
    "w3 = np.random.randn(hidden_size, output_size)\n",
    "b3 = np.zeros(output_size)\n",
    "\n",
    "# 첫 번째 은닉층 계산\n",
    "z1 = np.zeros(hidden_size)\n",
    "for j in range(hidden_size):\n",
    "    z1[j] = sum(x[i] * w1[i, j] for i in range(input_size)) + b1[j]\n",
    "\n",
    "a1 = z1\n",
    "\n",
    "# 두 번째 은닉층 계산\n",
    "z2 = np.zeros(hidden_size)\n",
    "for j in range(hidden_size):\n",
    "    z2[j] = sum(a1[i] * w2[i, j] for i in range(hidden_size)) + b2[j]\n",
    "    \n",
    "a2 = z2\n",
    "\n",
    "# 출력층 계산\n",
    "z3 = np.zeros(output_size)\n",
    "for j in range(output_size):\n",
    "    z3[j] = sum(a2[i] * w3[i, j] for i in range(hidden_size)) + b3[j]\n",
    "\n",
    "# 모델의 최종 출력\n",
    "output = z3\n",
    "print(output)"
   ]
  },
  {
   "cell_type": "code",
   "execution_count": 2,
   "metadata": {},
   "outputs": [
    {
     "name": "stdout",
     "output_type": "stream",
     "text": [
      "[ 1.54419625 -3.05742623]\n"
     ]
    }
   ],
   "source": [
    "import numpy as np\n",
    "\n",
    "x = np.array([1.0, 0.5, -1.5])\n",
    "\n",
    "#층 개수\n",
    "input_size = 3\n",
    "hidden_size = 3\n",
    "output_size = 2\n",
    "\n",
    "#가중치, 편향 설정\n",
    "w1 = np.random.randn(input_size, hidden_size)\n",
    "b1 = np.zeros(hidden_size)\n",
    "w2 = np.random.randn(hidden_size, hidden_size)\n",
    "b2 = np.zeros(hidden_size)\n",
    "w3 = np.random.randn(hidden_size, output_size)\n",
    "b3 = np.zeros(output_size)\n",
    "\n",
    "# 첫 번째 은닉층 계산\n",
    "z1 = np.dot(x, w1) + b1\n",
    "a1 = z1\n",
    "\n",
    "# 두 번째 은닉층 계산\n",
    "z2 = np.dot(a1, w2) + b2\n",
    "a2 = z2\n",
    "\n",
    "# 출력층 계산\n",
    "z3 = np.dot(a2, w3) + b3\n",
    "\n",
    "# 모델의 최종 출력\n",
    "output = z3\n",
    "print(output)"
   ]
  },
  {
   "cell_type": "code",
   "execution_count": null,
   "metadata": {},
   "outputs": [],
   "source": []
  },
  {
   "cell_type": "code",
   "execution_count": null,
   "metadata": {},
   "outputs": [],
   "source": []
  }
 ],
 "metadata": {
  "kernelspec": {
   "display_name": "base",
   "language": "python",
   "name": "python3"
  },
  "language_info": {
   "codemirror_mode": {
    "name": "ipython",
    "version": 3
   },
   "file_extension": ".py",
   "mimetype": "text/x-python",
   "name": "python",
   "nbconvert_exporter": "python",
   "pygments_lexer": "ipython3",
   "version": "3.9.13"
  }
 },
 "nbformat": 4,
 "nbformat_minor": 2
}
