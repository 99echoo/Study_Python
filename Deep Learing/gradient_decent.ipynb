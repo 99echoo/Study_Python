{
 "cells": [
  {
   "cell_type": "code",
   "execution_count": 2,
   "metadata": {},
   "outputs": [
    {
     "name": "stdout",
     "output_type": "stream",
     "text": [
      "Iteration 1: x = 3.2, y = 10.240000000000002\n",
      "Iteration 2: x = 2.56, y = 6.5536\n",
      "Iteration 3: x = 2.048, y = 4.194304\n",
      "Iteration 4: x = 1.6384, y = 2.68435456\n",
      "Iteration 5: x = 1.31072, y = 1.7179869184000003\n",
      "Iteration 6: x = 1.0485760000000002, y = 1.0995116277760004\n",
      "Iteration 7: x = 0.8388608000000002, y = 0.7036874417766403\n",
      "Iteration 8: x = 0.6710886400000001, y = 0.45035996273704976\n",
      "Iteration 9: x = 0.5368709120000001, y = 0.2882303761517119\n",
      "Iteration 10: x = 0.4294967296000001, y = 0.18446744073709562\n",
      "Iteration 11: x = 0.3435973836800001, y = 0.11805916207174119\n",
      "Iteration 12: x = 0.27487790694400005, y = 0.07555786372591435\n",
      "Total iterations: 12, Final x: 0.27487790694400005\n"
     ]
    }
   ],
   "source": [
    "def gradient_descent (x_1,learning_rate,threshold):\n",
    "    x = x_1\n",
    "    y = x**2\n",
    "    iterations = 0\n",
    "    \n",
    "    while y > threshold :\n",
    "        x = x - learning_rate * (2 * x)\n",
    "        y = x ** 2\n",
    "        iterations += 1\n",
    "        print(f\"Iteration {iterations}: x = {x}, y = {y}\")\n",
    "    \n",
    "    return iterations, x\n",
    "\n",
    "iterations, final_x = gradient_descent(x_1=4, learning_rate=0.1, threshold=0.1)\n",
    "print(f\"Total iterations: {iterations}, Final x: {final_x}\")\n",
    "    "
   ]
  },
  {
   "cell_type": "code",
   "execution_count": null,
   "metadata": {},
   "outputs": [],
   "source": []
  },
  {
   "cell_type": "code",
   "execution_count": null,
   "metadata": {},
   "outputs": [],
   "source": []
  }
 ],
 "metadata": {
  "kernelspec": {
   "display_name": "base",
   "language": "python",
   "name": "python3"
  },
  "language_info": {
   "codemirror_mode": {
    "name": "ipython",
    "version": 3
   },
   "file_extension": ".py",
   "mimetype": "text/x-python",
   "name": "python",
   "nbconvert_exporter": "python",
   "pygments_lexer": "ipython3",
   "version": "3.9.13"
  }
 },
 "nbformat": 4,
 "nbformat_minor": 2
}
