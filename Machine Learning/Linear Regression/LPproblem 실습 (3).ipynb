{
 "cells": [
  {
   "cell_type": "code",
   "execution_count": 25,
   "id": "cf72251a",
   "metadata": {},
   "outputs": [
    {
     "name": "stdout",
     "output_type": "stream",
     "text": [
      "정답은 73.0 입니다\n",
      "big : 3.0\n",
      "little : 1.0\n"
     ]
    }
   ],
   "source": [
    "from pulp import *\n",
    "model = LpProblem(name='123', sense=LpMaximize )\n",
    "\n",
    "x1 = LpVariable(name='little',lowBound=0,cat='Integer')\n",
    "x2 = LpVariable(name='big',lowBound=0,cat='Integer')\n",
    "\n",
    "model += x1 <= 5\n",
    "model += 25 * x1 + 75 * x2 <= 250\n",
    "model += 7 * x1 + 22 * x2\n",
    "\n",
    "model.solve()\n",
    "print(\"정답은\", model.objective.value(),\"입니다\")\n",
    "for var in model.variables():\n",
    "    print(var.name,':',var.value())"
   ]
  },
  {
   "cell_type": "code",
   "execution_count": 8,
   "id": "d807e6f7",
   "metadata": {},
   "outputs": [
    {
     "name": "stdout",
     "output_type": "stream",
     "text": [
      "정답은 58.0 입니다\n",
      "big : 2.0\n",
      "cost : 1.0\n",
      "little : 2.0\n"
     ]
    }
   ],
   "source": [
    "from pulp import *\n",
    "model = LpProblem(name='123', sense=LpMaximize )\n",
    "\n",
    "x1 = LpVariable(name='little',lowBound=0,cat='Integer')\n",
    "x2 = LpVariable(name='big',lowBound=0,cat='Integer')\n",
    "y1 = LpVariable(name='cost',lowBound=0,cat='Binary')\n",
    "\n",
    "model += x1 <= 5\n",
    "model += 25 * x1 + 75 * x2 + 50 * y1<= 250\n",
    "model += x2 - 50 * y1 <= 0\n",
    "model += 7 * x1 + 22 * x2 \n",
    "\n",
    "model.solve()\n",
    "print(\"정답은\", model.objective.value(),\"입니다\")\n",
    "for var in model.variables():\n",
    "    print(var.name,':',var.value())"
   ]
  },
  {
   "cell_type": "code",
   "execution_count": 16,
   "id": "bfbe6753",
   "metadata": {},
   "outputs": [
    {
     "data": {
      "text/plain": [
       "<AxesSubplot:xlabel='성별', ylabel='count'>"
      ]
     },
     "execution_count": 16,
     "metadata": {},
     "output_type": "execute_result"
    },
    {
     "name": "stderr",
     "output_type": "stream",
     "text": [
      "C:\\Users\\user\\anaconda3\\lib\\site-packages\\IPython\\core\\pylabtools.py:151: UserWarning: Glyph 45224 (\\N{HANGUL SYLLABLE NAM}) missing from current font.\n",
      "  fig.canvas.print_figure(bytes_io, **kw)\n",
      "C:\\Users\\user\\anaconda3\\lib\\site-packages\\IPython\\core\\pylabtools.py:151: UserWarning: Glyph 50668 (\\N{HANGUL SYLLABLE YEO}) missing from current font.\n",
      "  fig.canvas.print_figure(bytes_io, **kw)\n",
      "C:\\Users\\user\\anaconda3\\lib\\site-packages\\IPython\\core\\pylabtools.py:151: UserWarning: Glyph 49457 (\\N{HANGUL SYLLABLE SEONG}) missing from current font.\n",
      "  fig.canvas.print_figure(bytes_io, **kw)\n",
      "C:\\Users\\user\\anaconda3\\lib\\site-packages\\IPython\\core\\pylabtools.py:151: UserWarning: Glyph 48324 (\\N{HANGUL SYLLABLE BYEOL}) missing from current font.\n",
      "  fig.canvas.print_figure(bytes_io, **kw)\n"
     ]
    },
    {
     "data": {
      "image/png": "[encoded data removed]",
      "text/plain": [
       "<Figure size 640x480 with 1 Axes>"
      ]
     },
     "metadata": {},
     "output_type": "display_data"
    }
   ],
   "source": [
    "import pandas as pd\n",
    "import seaborn as sns\n",
    "df = pd.read_excel('C:/Users/user/Downloads/OneDrive_2023-03-13/survey.xlsx')\n",
    "table = pd.crosstab(index=df['성별'],columns='인원')\n",
    "sns.countplot(x='성별',data=df)"
   ]
  },
  {
   "cell_type": "code",
   "execution_count": 17,
   "id": "d321071f",
   "metadata": {},
   "outputs": [
    {
     "data": {
      "text/plain": [
       "<AxesSubplot:xlabel='성별', ylabel='count'>"
      ]
     },
     "execution_count": 17,
     "metadata": {},
     "output_type": "execute_result"
    },
    {
     "name": "stderr",
     "output_type": "stream",
     "text": [
      "C:\\Users\\user\\anaconda3\\lib\\site-packages\\IPython\\core\\pylabtools.py:151: UserWarning: Glyph 45224 (\\N{HANGUL SYLLABLE NAM}) missing from current font.\n",
      "  fig.canvas.print_figure(bytes_io, **kw)\n",
      "C:\\Users\\user\\anaconda3\\lib\\site-packages\\IPython\\core\\pylabtools.py:151: UserWarning: Glyph 50668 (\\N{HANGUL SYLLABLE YEO}) missing from current font.\n",
      "  fig.canvas.print_figure(bytes_io, **kw)\n",
      "C:\\Users\\user\\anaconda3\\lib\\site-packages\\IPython\\core\\pylabtools.py:151: UserWarning: Glyph 49457 (\\N{HANGUL SYLLABLE SEONG}) missing from current font.\n",
      "  fig.canvas.print_figure(bytes_io, **kw)\n",
      "C:\\Users\\user\\anaconda3\\lib\\site-packages\\IPython\\core\\pylabtools.py:151: UserWarning: Glyph 48324 (\\N{HANGUL SYLLABLE BYEOL}) missing from current font.\n",
      "  fig.canvas.print_figure(bytes_io, **kw)\n",
      "C:\\Users\\user\\anaconda3\\lib\\site-packages\\IPython\\core\\pylabtools.py:151: UserWarning: Glyph 51649 (\\N{HANGUL SYLLABLE JIG}) missing from current font.\n",
      "  fig.canvas.print_figure(bytes_io, **kw)\n",
      "C:\\Users\\user\\anaconda3\\lib\\site-packages\\IPython\\core\\pylabtools.py:151: UserWarning: Glyph 47924 (\\N{HANGUL SYLLABLE MU}) missing from current font.\n",
      "  fig.canvas.print_figure(bytes_io, **kw)\n",
      "C:\\Users\\user\\anaconda3\\lib\\site-packages\\IPython\\core\\pylabtools.py:151: UserWarning: Glyph 54924 (\\N{HANGUL SYLLABLE HOE}) missing from current font.\n",
      "  fig.canvas.print_figure(bytes_io, **kw)\n",
      "C:\\Users\\user\\anaconda3\\lib\\site-packages\\IPython\\core\\pylabtools.py:151: UserWarning: Glyph 44228 (\\N{HANGUL SYLLABLE GYE}) missing from current font.\n",
      "  fig.canvas.print_figure(bytes_io, **kw)\n",
      "C:\\Users\\user\\anaconda3\\lib\\site-packages\\IPython\\core\\pylabtools.py:151: UserWarning: Glyph 52509 (\\N{HANGUL SYLLABLE CONG}) missing from current font.\n",
      "  fig.canvas.print_figure(bytes_io, **kw)\n",
      "C:\\Users\\user\\anaconda3\\lib\\site-packages\\IPython\\core\\pylabtools.py:151: UserWarning: Glyph 44592 (\\N{HANGUL SYLLABLE GI}) missing from current font.\n",
      "  fig.canvas.print_figure(bytes_io, **kw)\n",
      "C:\\Users\\user\\anaconda3\\lib\\site-packages\\IPython\\core\\pylabtools.py:151: UserWarning: Glyph 53440 (\\N{HANGUL SYLLABLE TA}) missing from current font.\n",
      "  fig.canvas.print_figure(bytes_io, **kw)\n",
      "C:\\Users\\user\\anaconda3\\lib\\site-packages\\IPython\\core\\pylabtools.py:151: UserWarning: Glyph 47560 (\\N{HANGUL SYLLABLE MA}) missing from current font.\n",
      "  fig.canvas.print_figure(bytes_io, **kw)\n",
      "C:\\Users\\user\\anaconda3\\lib\\site-packages\\IPython\\core\\pylabtools.py:151: UserWarning: Glyph 52992 (\\N{HANGUL SYLLABLE KE}) missing from current font.\n",
      "  fig.canvas.print_figure(bytes_io, **kw)\n",
      "C:\\Users\\user\\anaconda3\\lib\\site-packages\\IPython\\core\\pylabtools.py:151: UserWarning: Glyph 54021 (\\N{HANGUL SYLLABLE TING}) missing from current font.\n",
      "  fig.canvas.print_figure(bytes_io, **kw)\n",
      "C:\\Users\\user\\anaconda3\\lib\\site-packages\\IPython\\core\\pylabtools.py:151: UserWarning: Glyph 54925 (\\N{HANGUL SYLLABLE HOEG}) missing from current font.\n",
      "  fig.canvas.print_figure(bytes_io, **kw)\n"
     ]
    },
    {
     "data": {
      "image/png": "[encoded data removed]",
      "text/plain": [
       "<Figure size 640x480 with 1 Axes>"
      ]
     },
     "metadata": {},
     "output_type": "display_data"
    }
   ],
   "source": [
    "import pandas as pd\n",
    "import seaborn as sns\n",
    "df = pd.read_excel('C:/Users/user/Downloads/OneDrive_2023-03-13/survey.xlsx')\n",
    "table = pd.crosstab(index=df['성별'],columns=df['직무'])\n",
    "sns.countplot(x='성별',hue='직무',data=df)"
   ]
  },
  {
   "cell_type": "code",
   "execution_count": 18,
   "id": "f20b0ef5",
   "metadata": {},
   "outputs": [
    {
     "name": "stdout",
     "output_type": "stream",
     "text": [
      "성별          남         여\n",
      "직무                     \n",
      "기타   2.230769  2.266667\n",
      "기획   1.888889  1.777778\n",
      "마케팅  1.857143  1.612903\n",
      "총무   2.076923  2.320000\n",
      "회계   2.050000  2.000000\n"
     ]
    }
   ],
   "source": [
    "import pandas as pd\n",
    "import seaborn as sns\n",
    "df = pd.read_excel('C:/Users/user/Downloads/OneDrive_2023-03-13/survey.xlsx')\n",
    "table = df.pivot_table(index='직무',columns='성별',values='만족도',aggfunc='mean')\n",
    "print(table)"
   ]
  },
  {
   "cell_type": "code",
   "execution_count": 28,
   "id": "76eb6043",
   "metadata": {},
   "outputs": [
    {
     "name": "stdout",
     "output_type": "stream",
     "text": [
      "구분          빌라       아파트\n",
      "가격구분                    \n",
      "매매    570000.0  770000.0\n",
      "월세    100000.0  220000.0\n",
      "전세    170000.0  230000.0\n"
     ]
    }
   ],
   "source": [
    "import pandas as pd\n",
    "import seaborn as sns\n",
    "df = pd.read_excel('C:/Users/user/Downloads/OneDrive_2023-03-13/house.xlsx')\n",
    "table = df.pivot_table(index='가격구분',columns='구분',values='가격',aggfunc='max')\n",
    "print(table)"
   ]
  }
 ],
 "metadata": {
  "kernelspec": {
   "display_name": "Python 3 (ipykernel)",
   "language": "python",
   "name": "python3"
  },
  "language_info": {
   "codemirror_mode": {
    "name": "ipython",
    "version": 3
   },
   "file_extension": ".py",
   "mimetype": "text/x-python",
   "name": "python",
   "nbconvert_exporter": "python",
   "pygments_lexer": "ipython3",
   "version": "3.9.13"
  }
 },
 "nbformat": 4,
 "nbformat_minor": 5
}
