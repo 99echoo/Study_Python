{
 "cells": [
  {
   "cell_type": "code",
   "execution_count": 8,
   "id": "9fcd547c",
   "metadata": {},
   "outputs": [
    {
     "name": "stdout",
     "output_type": "stream",
     "text": [
      "6.6666666 \n",
      "\n",
      "potato : 3.3333333\n",
      "stake : 0.0\n"
     ]
    }
   ],
   "source": [
    "from pulp import *\n",
    "model = LpProblem(name=\"LP_Problem\",sense = LpMinimize)\n",
    "x1 = LpVariable(name='stake',lowBound=0)\n",
    "x2 = LpVariable(name='potato',lowBound=0)\n",
    "model += 5*x1 + 15*x2 >=50\n",
    "model += 15*x1 + 2*x2 <= 60\n",
    "model += 4*x1 + 2*x2\n",
    "model.solve()\n",
    "print(model.objective.value(),'\\n')\n",
    "for var in model.variables():\n",
    "    print(var.name,':',var.value())"
   ]
  },
  {
   "cell_type": "code",
   "execution_count": 14,
   "id": "16407083",
   "metadata": {},
   "outputs": [
    {
     "name": "stdout",
     "output_type": "stream",
     "text": [
      "10.909091 \n",
      "\n",
      "potato : 2.9090909\n",
      "stake : 1.2727273\n"
     ]
    }
   ],
   "source": [
    "from pulp import *\n",
    "model = LpProblem(name=\"LP_Problem\",sense = LpMinimize)\n",
    "x1 = LpVariable(name='stake',lowBound=0)\n",
    "x2 = LpVariable(name='potato',lowBound=0)\n",
    "model += 5*x1 + 15*x2 >=50\n",
    "model += 15*x1 + 2*x2 <= 60\n",
    "model += 20*x1 + 5*x2 >=40\n",
    "model += 4*x1 + 2*x2\n",
    "model.solve()\n",
    "print(model.objective.value(),'\\n')\n",
    "for var in model.variables():\n",
    "    print(var.name,':',var.value())"
   ]
  },
  {
   "cell_type": "code",
   "execution_count": 13,
   "id": "81b2929e",
   "metadata": {},
   "outputs": [
    {
     "name": "stdout",
     "output_type": "stream",
     "text": [
      "13.4545456 \n",
      "\n",
      "potato : 2.9090909\n",
      "stake : 1.2727273\n"
     ]
    }
   ],
   "source": [
    "from pulp import *\n",
    "model = LpProblem(name=\"LP_Problem\",sense = LpMinimize)\n",
    "x1 = LpVariable(name='stake',lowBound=0)\n",
    "x2 = LpVariable(name='potato',lowBound=0)\n",
    "model += 5*x1 + 15*x2 >=50\n",
    "model += 15*x1 + 2*x2 <= 60\n",
    "model += 20*x1 + 5*x2 >=40\n",
    "model += 6*x1 + 2*x2\n",
    "model.solve()\n",
    "print(model.objective.value(),'\\n')\n",
    "for var in model.variables():\n",
    "    print(var.name,':',var.value())"
   ]
  },
  {
   "cell_type": "code",
   "execution_count": 12,
   "id": "baa1be1a",
   "metadata": {},
   "outputs": [
    {
     "name": "stdout",
     "output_type": "stream",
     "text": [
      "10.909091 \n",
      "\n",
      "potato : 2.9090909\n",
      "stake : 1.2727273\n"
     ]
    }
   ],
   "source": [
    "from pulp import *\n",
    "model = LpProblem(name=\"LP_Problem\",sense = LpMinimize)\n",
    "x1 = LpVariable(name='stake',lowBound=0)\n",
    "x2 = LpVariable(name='potato',lowBound=0)\n",
    "model += 5*x1 + 15*x2 >=50\n",
    "model += 15*x1 + 2*x2 <= 40\n",
    "model += 20*x1 + 5*x2 >=40\n",
    "model += 4*x1 + 2*x2\n",
    "model.solve()\n",
    "print(model.objective.value(),'\\n')\n",
    "for var in model.variables():\n",
    "    print(var.name,':',var.value())"
   ]
  }
 ],
 "metadata": {
  "kernelspec": {
   "display_name": "Python 3 (ipykernel)",
   "language": "python",
   "name": "python3"
  },
  "language_info": {
   "codemirror_mode": {
    "name": "ipython",
    "version": 3
   },
   "file_extension": ".py",
   "mimetype": "text/x-python",
   "name": "python",
   "nbconvert_exporter": "python",
   "pygments_lexer": "ipython3",
   "version": "3.9.13"
  }
 },
 "nbformat": 4,
 "nbformat_minor": 5
}
