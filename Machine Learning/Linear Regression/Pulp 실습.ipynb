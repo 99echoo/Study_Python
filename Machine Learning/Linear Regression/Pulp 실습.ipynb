{
 "cells": [
  {
   "cell_type": "code",
   "execution_count": 14,
   "id": "fd166d66",
   "metadata": {},
   "outputs": [
    {
     "name": "stdout",
     "output_type": "stream",
     "text": [
      "총 이익은 700.0 입니다\n",
      "chair : 100.0\n",
      "desk : 100.0\n"
     ]
    }
   ],
   "source": [
    "from pulp import *\n",
    "model = LpProblem(name='example1', sense= LpMaximize)\n",
    "\n",
    "x1 = LpVariable(name='chair',lowBound=0,cat='Integer')\n",
    "x2 = LpVariable(name='desk',lowBound=0,cat='Integer')\n",
    "\n",
    "model += 0.1* x1 + 0.4* x2 <= 50\n",
    "model += 4 * x1 + 8 * x2 <= 1200\n",
    "model += 2 * x1 + 5 * x2\n",
    "\n",
    "model.solve()\n",
    "print(\"총 이익은\", model.objective.value(),\"입니다\")\n",
    "for var in model.variables():\n",
    "    print(var.name,':',var.value())\n"
   ]
  },
  {
   "cell_type": "code",
   "execution_count": 15,
   "id": "ab793f55",
   "metadata": {},
   "outputs": [
    {
     "name": "stdout",
     "output_type": "stream",
     "text": [
      "이익은 36.0 입니다\n",
      "a : 2.0\n",
      "b : 6.0\n"
     ]
    }
   ],
   "source": [
    "from pulp import *\n",
    "model = LpProblem(name='123', sense=LpMaximize )\n",
    "\n",
    "x1 = LpVariable(name='a',lowBound=0,cat='Integer')\n",
    "x2 = LpVariable(name='b',lowBound=0,cat='Integer')\n",
    "\n",
    "model += x1 <= 4\n",
    "model += x2 <= 6\n",
    "model += 3* x1 + 2* x2 <= 18\n",
    "model += 3*x1 + 5*x2\n",
    "\n",
    "model.solve()\n",
    "print(\"이익은\", model.objective.value(),\"입니다\")\n",
    "for var in model.variables():\n",
    "    print(var.name,':',var.value())"
   ]
  },
  {
   "cell_type": "code",
   "execution_count": 2,
   "id": "61bf3ac4",
   "metadata": {},
   "outputs": [
    {
     "name": "stdout",
     "output_type": "stream",
     "text": [
      "x1: 100.0\n",
      "x2: 100.0\n",
      "Optimal objective value: 700.0\n"
     ]
    }
   ],
   "source": [
    "from pulp import *\n",
    "num_vars = 2\n",
    "model = LpProblem(name='example1', sense= LpMaximize)\n",
    "variables = [LpVariable(name=f\"x{i+1}\", lowBound=0) for i in range(num_vars)]\n",
    "constraints = []\n",
    "constr_1_coeffs = ([0.1,0.4],[4,8])\n",
    "for i in range(2):\n",
    "    rhs_values = [50,1200]\n",
    "    constr_sup = LpConstraint(\n",
    "        e=LpAffineExpression([(variables[j], constr_1_coeffs[i][j]) for j in range(2)]),\n",
    "        sense=LpConstraintLE,\n",
    "        rhs=rhs_values[i],\n",
    "        name=f\"constraint_sup{i + 1}\"\n",
    "    )\n",
    "    constraints.append(constr_sup)\n",
    "obj_coefficients = [2,5]\n",
    "obj = LpAffineExpression([(variables[i], obj_coefficients[i]) for i in range(num_vars)])\n",
    "model += obj\n",
    "\n",
    "\n",
    "for constraint in constraints:\n",
    "    model += constraint\n",
    "model.solve()\n",
    "for variable in variables:\n",
    "    print(f\"{variable.name}: {variable.value()}\")\n",
    "\n",
    "print(f\"Optimal objective value: {model.objective.value()}\")"
   ]
  },
  {
   "cell_type": "code",
   "execution_count": 29,
   "id": "f7bff96c",
   "metadata": {},
   "outputs": [
    {
     "name": "stdout",
     "output_type": "stream",
     "text": [
      "x1: 0.3069185\n",
      "x2: 0.2\n",
      "x3: 0.0\n",
      "x4: 0.0\n",
      "x5: 0.49854495\n",
      "x6: 0.0\n",
      "Optimal objective value: 1919.039104\n"
     ]
    }
   ],
   "source": [
    "from pulp import *\n",
    "num_vars = 6\n",
    "model = LpProblem(name='example2', sense= LpMinimize)\n",
    "variables = [LpVariable(name=f\"x{i+1}\", lowBound=0) for i in range(num_vars)]\n",
    "constraints = []\n",
    "constr_1_coeffs = ([25000,2900,630,95,630,3400],[79,149,16,8,32,86],[830,84,86,279,1060,0],[0,0,140,1690,1430,0],\n",
    "                   [0,1,0,0,0,0],[0,0,0,0,1,0])\n",
    "for i in range(6):\n",
    "    rhs_values = [3000, 70, 800, 5, 0.2, 0.2]\n",
    "    constr_sup = LpConstraint(\n",
    "        e=LpAffineExpression([(variables[j], constr_1_coeffs[i][j]) for j in range(6)]),\n",
    "        sense=LpConstraintGE,\n",
    "        rhs=rhs_values[i],\n",
    "        name=f\"constraint_sup{i + 1}\"\n",
    "    )\n",
    "    constraints.append(constr_sup)\n",
    "obj_coefficients = [1500, 5000, 400, 320, 920, 1900]\n",
    "obj = LpAffineExpression([(variables[i], obj_coefficients[i]) for i in range(num_vars)])\n",
    "model += obj\n",
    "\n",
    "\n",
    "for constraint in constraints:\n",
    "    model += constraint\n",
    "model.solve()\n",
    "for variable in variables:\n",
    "    print(f\"{variable.name}: {variable.value()}\")\n",
    "\n",
    "print(f\"Optimal objective value: {model.objective.value()}\")"
   ]
  },
  {
   "cell_type": "code",
   "execution_count": 19,
   "id": "5634ed31",
   "metadata": {},
   "outputs": [
    {
     "name": "stdout",
     "output_type": "stream",
     "text": [
      "x1: 0.3069185\n",
      "x2: 0.2\n",
      "x3: 0.0\n",
      "x4: 0.0\n",
      "x5: 0.49854495\n",
      "x6: 0.0\n",
      "Optimal objective value: 1919.039104\n"
     ]
    }
   ],
   "source": [
    "from pulp import *\n",
    "num_vars = 6\n",
    "model = LpProblem(name='example3', sense= LpMinimize)\n",
    "variables = [LpVariable(name=f\"x{i+1}\", lowBound=0) for i in range(num_vars)]\n",
    "constraints = []\n",
    "constr_1_coeffs = ([25000,2900,630,95,630,3400],[79,149,16,8,32,86],[830,84,86,279,1060,0],[0,0,140,1690,1430,0],\n",
    "                   [0,1,0,0,0,0],[0,0,0,0,1,0])\n",
    "for i in range(6):\n",
    "    rhs_values = [3000, 70, 800, 5, 0.2, 0.2]\n",
    "    constr_sup = LpConstraint(\n",
    "        e=LpAffineExpression([(variables[j], constr_1_coeffs[i][j]) for j in range(6)]),\n",
    "        sense=LpConstraintGE,\n",
    "        rhs=rhs_values[i],\n",
    "        name=f\"constraint_sup{i + 1}\"\n",
    "    )\n",
    "    constraints.append(constr_sup)\n",
    "obj_coefficients = [1500, 5000, 400, 320, 920, 1900]\n",
    "obj = LpAffineExpression([(variables[i], obj_coefficients[i]) for i in range(num_vars)])\n",
    "model += obj\n",
    "\n",
    "\n",
    "for constraint in constraints:\n",
    "    model += constraint\n",
    "model.solve()\n",
    "for variable in variables:\n",
    "    print(f\"{variable.name}: {variable.value()}\")\n",
    "\n",
    "print(f\"Optimal objective value: {model.objective.value()}\")"
   ]
  },
  {
   "cell_type": "code",
   "execution_count": 3,
   "id": "385c900a",
   "metadata": {},
   "outputs": [
    {
     "name": "stdout",
     "output_type": "stream",
     "text": [
      "최솟값은 2700.0 입니다\n",
      "A : 0.1\n",
      "B : 0.5\n",
      "C : 0.4\n"
     ]
    }
   ],
   "source": [
    "from pulp import *\n",
    "model = LpProblem(name='example4', sense= LpMinimize)\n",
    "\n",
    "x1 = LpVariable(name='A',lowBound=0)\n",
    "x2 = LpVariable(name='B',lowBound=0)\n",
    "x3 = LpVariable(name='C',lowBound=0)\n",
    "\n",
    "model += x1 + x2 + x3 == 1\n",
    "model += 0.9 * x1 - 0.1 * (x2 + x3) >= 0\n",
    "model += - 0.2 * (x1 + x3) + 0.8 * x2 >= 0\n",
    "model += 0.6 * x3  - 0.4 * ( x1 + x2 ) <= 0\n",
    "model += 4000 * x1 + 3000 * x2 + 2000 * x3\n",
    "\n",
    "model.solve()\n",
    "print(\"최솟값은\", model.objective.value(),\"입니다\")\n",
    "for var in model.variables():\n",
    "    print(var.name,':',var.value())"
   ]
  },
  {
   "cell_type": "code",
   "execution_count": 7,
   "id": "81fe7e00",
   "metadata": {},
   "outputs": [
    {
     "name": "stdout",
     "output_type": "stream",
     "text": [
      "[0.9*x1 + -0.1*x2 + -0.1*x3 + 0 >= 0, 0*x1 + 2*x2 + 0.8*x3 + 0 >= 0, 0.4*x1 + 0.4*x2 + -0.6*x3 + 0 >= 0, 1*x1 + 1*x2 + 1*x3 + -1 = 0]\n",
      "x1: 0.1\n",
      "x2: 0.5\n",
      "x3: 0.4\n",
      "Optimal objective value: 2700.0\n"
     ]
    }
   ],
   "source": [
    "from pulp import *\n",
    "num_vars = 3\n",
    "model = LpProblem(name='example4', sense= LpMinimize)\n",
    "variables = [LpVariable(name=f\"x{i+1}\", lowBound=0) for i in range(num_vars)]\n",
    "constraints = []\n",
    "constr_1_coeffs = ([0.9,-0.1,-0.1],[-0,2,0.8,-0.2],[0.4,0.4,-0.6])\n",
    "for i in range(3):\n",
    "    rhs_values = [0,0,0]\n",
    "    constr_sup = LpConstraint(\n",
    "        e=LpAffineExpression([(variables[j], constr_1_coeffs[i][j]) for j in range(num_vars)]),\n",
    "        sense=LpConstraintGE,\n",
    "        rhs=rhs_values[i],\n",
    "        name=f\"constraint_sup{i + 1}\"\n",
    "    )\n",
    "    constraints.append(constr_sup)\n",
    "for i in range(1):\n",
    "    rhs_values = [1]\n",
    "    constr_sup = LpConstraint(\n",
    "        e=LpAffineExpression([(variables[j], 1) for j in range(num_vars)]),\n",
    "        sense=LpConstraintEQ,\n",
    "        rhs=rhs_values[i],\n",
    "        name=f\"constraint_sup{num_vars + i + 1}\"\n",
    "    )\n",
    "    constraints.append(constr_sup)\n",
    "print(constraints)\n",
    "obj_coefficients = [4000,3000,2000]\n",
    "obj = LpAffineExpression([(variables[i], obj_coefficients[i]) for i in range(3)])\n",
    "model += obj\n",
    "\n",
    "\n",
    "for constraint in constraints:\n",
    "    model += constraint\n",
    "model.solve()\n",
    "for variable in variables:\n",
    "    print(f\"{variable.name}: {variable.value()}\")\n",
    "\n",
    "print(f\"Optimal objective value: {model.objective.value()}\")"
   ]
  },
  {
   "cell_type": "code",
   "execution_count": 32,
   "id": "a3cafa5c",
   "metadata": {},
   "outputs": [
    {
     "name": "stdout",
     "output_type": "stream",
     "text": [
      "최솟값은 1187500.0 입니다\n",
      "A : 3750.0\n",
      "A1 : 1250.0\n",
      "B : 5000.0\n",
      "B1 : 0.0\n",
      "C : 3750.0\n",
      "C1 : 1250.0\n"
     ]
    }
   ],
   "source": [
    "from pulp import *\n",
    "model = LpProblem(name='example5', sense= LpMinimize)\n",
    "\n",
    "x1 = LpVariable(name='A',lowBound=0,cat = 'Integer')\n",
    "x2 = LpVariable(name='B',lowBound=0,cat = 'Integer')\n",
    "x3 = LpVariable(name='C',lowBound=0,cat = 'Integer')\n",
    "\n",
    "y1 = LpVariable(name='A1',lowBound=0,cat = 'Integer')\n",
    "y2 = LpVariable(name='B1',lowBound=0,cat = 'Integer')\n",
    "y3 = LpVariable(name='C1',lowBound=0,cat = 'Integer')\n",
    "\n",
    "model += x1 + y1 == 5000\n",
    "model += x2 + y2 == 5000\n",
    "model += x3 + y3 == 5000\n",
    "model += 0.03 * x1 + 0.02 * x2 + 0.05 * x3 <= 400\n",
    "model += 0.04 * x1 + 0.02 * x2 + 0.04 * x3 <= 400\n",
    "model += 0.02 * x1 + 0.03 * x2 + 0.01 * x3 <= 400\n",
    "model += 75 * x1 + 40 * x2 + 110 * x3 + 95 * y1 + 55 * y2 + 140 * y3\n",
    "\n",
    "model.solve()\n",
    "print(\"최솟값은\", model.objective.value(),\"입니다\")\n",
    "for var in model.variables():\n",
    "    print(var.name,':',var.value())"
   ]
  },
  {
   "cell_type": "code",
   "execution_count": 44,
   "id": "4c265d8c",
   "metadata": {},
   "outputs": [
    {
     "name": "stdout",
     "output_type": "stream",
     "text": [
      "[0.03*x1 + 0.02*x2 + 0.05*x3 + -400 <= 0, 0.04*x1 + 0.02*x2 + 0.04*x3 + -400 <= 0, 0.02*x1 + 0.03*x2 + 0.01*x3 + -400 <= 0]\n",
      "[1*x1 + 1*y1 + -5000 = 0, 1*x2 + 1*y2 + -5000 = 0, 1*x3 + 1*y3 + -5000 = 0]\n",
      "x1: 3750.0\n",
      "x2: 5000.0\n",
      "x3: 3750.0\n",
      "y1: 1250.0\n",
      "y2: 0.0\n",
      "y3: 1250.0\n",
      "Optimal objective value: 1187500.0\n"
     ]
    }
   ],
   "source": [
    "from pulp import *\n",
    "num_vars = 3\n",
    "model = LpProblem(name='example5', sense= LpMinimize)\n",
    "xvariables = [LpVariable(name=f\"x{i+1}\", lowBound=0) for i in range(num_vars)]\n",
    "yvariables = [LpVariable(name=f\"y{i+1}\", lowBound=0) for i in range(num_vars)]\n",
    "\n",
    "constraints1 = []\n",
    "constr_1_coeffs = ([0.03,0.02,0.05],[0.04,0.02,0.04],[0.02,0.03,0.01])\n",
    "for i in range(3):\n",
    "    rhs_values = [400,400,400]\n",
    "    constr_sup = LpConstraint(\n",
    "        e=LpAffineExpression([(xvariables[j], constr_1_coeffs[i][j]) for j in range(3)]),\n",
    "        sense=LpConstraintLE,\n",
    "        rhs=rhs_values[i],\n",
    "        name=f\"constraint_sup{i + 1}\"\n",
    "    )\n",
    "    constraints1.append(constr_sup)\n",
    "\n",
    "constr_1_coeffs2 = ([1,1],[1,1],[1,1])\n",
    "constraints2 = []\n",
    "for i in range(3):\n",
    "    rhs_values2 = [5000,5000,5000]\n",
    "    constr_sup2 = LpConstraint(\n",
    "        e=LpAffineExpression([(xvariables[i],constr_1_coeffs2[i][0]),(yvariables[i],constr_1_coeffs2[i][1])]),\n",
    "        sense=LpConstraintEQ,\n",
    "        rhs=rhs_values2[i],\n",
    "        name=f\"constraint_sup2{i + 1}\"\n",
    "    )\n",
    "    constraints2.append(constr_sup2)\n",
    "    \n",
    "    \n",
    "    \n",
    "obj_coefficients = [75, 40, 110, 95, 55, 140]\n",
    "obj = LpAffineExpression([(xvariables[i], obj_coefficients[i]) for i in range(num_vars)])\n",
    "obj += LpAffineExpression([(yvariables[i], obj_coefficients[i+num_vars]) for i in range(num_vars)])\n",
    "model += obj\n",
    "\n",
    "\n",
    "for constraint in constraints1 + constraints2:\n",
    "    model += constraint\n",
    "model.solve()\n",
    "for variable in xvariables + yvariables:\n",
    "    print(f\"{variable.name}: {variable.value()}\")\n",
    "\n",
    "print(f\"Optimal objective value: {model.objective.value()}\")"
   ]
  },
  {
   "cell_type": "code",
   "execution_count": 63,
   "id": "9835c5f8",
   "metadata": {},
   "outputs": [
    {
     "name": "stdout",
     "output_type": "stream",
     "text": [
      "[1*x11 + 1*x12 + -300 >= 0, 1*x21 + 1*x22 + -200 >= 0, 1*x31 + 1*x32 + -300 >= 0, 1*x11 + 1*x21 + 1*x31 + -600 <= 0, 1*x12 + 1*x22 + 1*x32 + -200 <= 0]\n",
      "x11: 100.0\n",
      "x12: 200.0\n",
      "x21: 200.0\n",
      "x22: 0.0\n",
      "x31: 300.0\n",
      "x32: 0.0\n",
      "Optimal objective value: 10200.0\n"
     ]
    }
   ],
   "source": [
    "###예제6번###\n",
    "from pulp import *\n",
    "\n",
    "model = LpProblem(name='example6', sense= LpMinimize)\n",
    "\n",
    "num_row = 3\n",
    "num_col = 2\n",
    "###첫번째가 row만큼 나오고 두번쨰가 col만큼 나옴###\n",
    "variables = [LpVariable(name=f\"x{i+1}{j+1}\", lowBound=0,cat='Integer') for i in range(num_row) for j in range(num_col)]\n",
    "constraints = []\n",
    "for i in range(num_row):\n",
    "    rhs_values = [300,200,300]\n",
    "    constr_sup = LpConstraint(\n",
    "        e=LpAffineExpression([(variables[i*num_col+j], 1) for j in range(num_col)]),\n",
    "        sense=LpConstraintGE,\n",
    "        rhs=rhs_values[i],\n",
    "        name=f\"constraint_sup{i + 1}\"\n",
    "    )\n",
    "    constraints.append(constr_sup)\n",
    "\n",
    "for i in range(2):\n",
    "    rhs_values = [600,200]\n",
    "    constr_sup = LpConstraint(\n",
    "        e=LpAffineExpression([(variables[i+num_col*j],1) for j in range(num_row)]),\n",
    "        sense=LpConstraintLE,\n",
    "        rhs=rhs_values[i],\n",
    "        name=f\"constraint_sup{num_row+ i + 1}\"\n",
    "    )\n",
    "    constraints.append(constr_sup)\n",
    "print(constraints)    \n",
    "\n",
    "obj_coefficients = [16,12,10,12,14,20]\n",
    "obj = LpAffineExpression([(variables[i], obj_coefficients[i]) for i in range(6)])\n",
    "model += obj\n",
    "\n",
    "\n",
    "for constraint in constraints:\n",
    "    model += constraint\n",
    "model.solve()\n",
    "for variable in variables:\n",
    "    print(f\"{variable.name}: {variable.value()}\")\n",
    "\n",
    "print(f\"Optimal objective value: {model.objective.value()}\")"
   ]
  },
  {
   "cell_type": "code",
   "execution_count": 62,
   "id": "e5ee579c",
   "metadata": {},
   "outputs": [
    {
     "name": "stdout",
     "output_type": "stream",
     "text": [
      "최솟값은 10200.0 입니다\n",
      "x11 : 100.0\n",
      "x12 : 200.0\n",
      "x21 : 200.0\n",
      "x22 : 0.0\n",
      "x31 : 300.0\n",
      "x32 : 0.0\n"
     ]
    }
   ],
   "source": [
    "###예제6번###\n",
    "from pulp import *\n",
    "model = LpProblem(name='example6', sense= LpMinimize)\n",
    "\n",
    "x11 = LpVariable(name='x11',lowBound=0,cat='Integer')\n",
    "x12 = LpVariable(name='x12',lowBound=0,cat='Integer')\n",
    "x21 = LpVariable(name='x21',lowBound=0,cat='Integer')\n",
    "x22 = LpVariable(name='x22',lowBound=0,cat='Integer')\n",
    "x31 = LpVariable(name='x31',lowBound=0,cat='Integer')\n",
    "x32 = LpVariable(name='x32',lowBound=0,cat='Integer')\n",
    "\n",
    "model += x11 + x12 >= 300\n",
    "model += x21 + x22 >= 200\n",
    "model += x31 + x32 >= 300\n",
    "model += x11 + x21 + x31 <= 600\n",
    "model += x12 + x22 + x32 <= 200\n",
    "model += 16*x11 + 12*x12 + 10*x21 + 12 * x22 + 14 * x31 + 20 * x32\n",
    "\n",
    "model.solve()\n",
    "print(\"최솟값은\", model.objective.value(),\"입니다\")\n",
    "for var in model.variables():\n",
    "    print(var.name,':',var.value())\n"
   ]
  },
  {
   "cell_type": "code",
   "execution_count": 10,
   "id": "6ccbefde",
   "metadata": {},
   "outputs": [
    {
     "name": "stdout",
     "output_type": "stream",
     "text": [
      "최솟값은 76500.0 입니다\n",
      "x1 : 8000.0\n",
      "x2 : 0.0\n",
      "x3 : 12000.0\n",
      "y1 : 1.0\n",
      "y2 : 0.0\n",
      "y3 : 1.0\n"
     ]
    }
   ],
   "source": [
    "###예제 7번###\n",
    "from pulp import *\n",
    "model = LpProblem(name='example7', sense= LpMinimize)\n",
    "\n",
    "x1 = LpVariable(name='x1',lowBound=0,cat='Integer')\n",
    "x2 = LpVariable(name='x2',lowBound=0,cat='Integer')\n",
    "x3 = LpVariable(name='x3',lowBound=0,cat='Integer')\n",
    "y1 = LpVariable(name='y1',lowBound=0,cat='Binary')\n",
    "y2 = LpVariable(name='y2',lowBound=0,cat='Binary')\n",
    "y3 = LpVariable(name='y3',lowBound=0,cat='Binary')\n",
    "\n",
    "model += x1 - 8000 * y1 <= 0\n",
    "model += x2 - 13000 * y2 <= 0\n",
    "model += x3 - 14000 * y3 <= 0\n",
    "model += x1 + x2 + x3 == 20000\n",
    "model += 2*x1 + 10*x2 + 5*x3 + 300 * y1 + 100 * y2 + 200 * y3\n",
    "\n",
    "model.solve()\n",
    "print(\"최솟값은\", model.objective.value(),\"입니다\")\n",
    "for var in model.variables():\n",
    "    print(var.name,':',var.value())"
   ]
  },
  {
   "cell_type": "code",
   "execution_count": 16,
   "id": "48e8f9aa",
   "metadata": {},
   "outputs": [
    {
     "name": "stdout",
     "output_type": "stream",
     "text": [
      "[1*x1 + -8000*y1 + 0 <= 0, 1*x2 + -13000*y2 + 0 <= 0, 1*x3 + -14000*y3 + 0 <= 0, 1*x1 + 1*x2 + 1*x3 + -20000 = 0]\n",
      "x1: 8000.0\n",
      "x2: 0.0\n",
      "x3: 12000.0\n",
      "y1: 1.0\n",
      "y2: 0.0\n",
      "y3: 1.0\n",
      "Optimal objective value: 76500.0\n"
     ]
    }
   ],
   "source": [
    "###예제 7번###\n",
    "from pulp import *\n",
    "num_vars = 3\n",
    "model = LpProblem(name='example7', sense=LpMinimize )\n",
    "xvariables = [LpVariable(name=f\"x{i+1}\", lowBound=0,cat='Integer') for i in range(num_vars)]\n",
    "yvariables = [LpVariable(name=f\"y{i+1}\", lowBound=0,cat='Binary') for i in range(num_vars)]\n",
    "constraints = []\n",
    "constr_1_coeffs = ([1,-8000],[1,-13000],[1,-14000])\n",
    "for i in range(3):\n",
    "    rhs_values = [0,0,0]\n",
    "    constr_sup = LpConstraint(\n",
    "        e=LpAffineExpression([(xvariables[i], constr_1_coeffs[i][0]),(yvariables[i], constr_1_coeffs[i][1])]),\n",
    "        sense=LpConstraintLE,\n",
    "        rhs=rhs_values[i],\n",
    "        name=f\"constraint_sup{i + 1}\"\n",
    "    )\n",
    "    constraints.append(constr_sup)\n",
    "for i in range(1):\n",
    "    rhs_values = [20000]\n",
    "    constr_sup = LpConstraint(\n",
    "        e=LpAffineExpression([(xvariables[j], 1)for j in range(3)]),\n",
    "        sense=LpConstraintEQ,\n",
    "        rhs=rhs_values[i],\n",
    "        name=f\"constraint_sup{num_vars + i + 1}\"\n",
    "    )\n",
    "    constraints.append(constr_sup)\n",
    "print(constraints)\n",
    "obj_coefficients = [2,10,5,300,100,200]\n",
    "obj = LpAffineExpression([(xvariables[i], obj_coefficients[i]) for i in range(num_vars)])\n",
    "obj += LpAffineExpression([(yvariables[i], obj_coefficients[num_vars + i]) for i in range(num_vars)])\n",
    "model += obj\n",
    "\n",
    "\n",
    "for constraint in constraints:\n",
    "    model += constraint\n",
    "model.solve()\n",
    "for variable in xvariables + yvariables:\n",
    "    print(f\"{variable.name}: {variable.value()}\")\n",
    "\n",
    "print(f\"Optimal objective value: {model.objective.value()}\")"
   ]
  },
  {
   "cell_type": "code",
   "execution_count": 1,
   "id": "ce2de1ce",
   "metadata": {},
   "outputs": [
    {
     "name": "stdout",
     "output_type": "stream",
     "text": [
      "[1*x1 + 0*x2 + 0*x3 + 0*x4 + 1*x5 + 0*x6 + 1*x7 + -1 >= 0, 1*x1 + 1*x2 + 0*x3 + 0*x4 + 1*x5 + 0*x6 + 1*x7 + -1 >= 0, 1*x1 + 0*x2 + 1*x3 + 0*x4 + 1*x5 + 0*x6 + 0*x7 + -1 >= 0, 0*x1 + 1*x2 + 0*x3 + 1*x4 + 1*x5 + 0*x6 + 0*x7 + -1 >= 0, 0*x1 + 0*x2 + 1*x3 + 1*x4 + 0*x5 + 1*x6 + 0*x7 + -1 >= 0, 0*x1 + 0*x2 + 0*x3 + 1*x4 + 1*x5 + 1*x6 + 0*x7 + -1 >= 0, 1*x1 + 0*x2 + 0*x3 + 0*x4 + 1*x5 + 1*x6 + 0*x7 + -1 >= 0]\n",
      "x1: 0.0\n",
      "x2: 0.0\n",
      "x3: 1.0\n",
      "x4: 0.0\n",
      "x5: 1.0\n",
      "x6: 0.0\n",
      "x7: 0.0\n",
      "Optimal objective value: 2.0\n"
     ]
    }
   ],
   "source": [
    "###예제 8번###\n",
    "from pulp import *\n",
    "num_vars = 7\n",
    "model = LpProblem(name='example7', sense=LpMinimize)\n",
    "variables = [LpVariable(name=f\"x{i+1}\", lowBound=0, cat ='Binary') for i in range(num_vars)]\n",
    "constraints = []\n",
    "constr_1_coeffs = ([1,0,0,0,1,0,1],[1,1,0,0,1,0,1],[1,0,1,0,1,0,0],[0,1,0,1,1,0,0],\n",
    "                  [0,0,1,1,0,1,0],[0,0,0,1,1,1,0],[1,0,0,0,1,1,0])\n",
    "for i in range(num_vars):\n",
    "    rhs_values = [1,1,1,1,1,1,1]\n",
    "    constr_sup = LpConstraint(\n",
    "        e=LpAffineExpression([(variables[j],constr_1_coeffs[i][j]) for j in range(num_vars)]),\n",
    "        sense=LpConstraintGE,\n",
    "        rhs=rhs_values[i],\n",
    "        name=f\"constraint_sup{i + 1}\"\n",
    "    )\n",
    "    constraints.append(constr_sup)\n",
    "print(constraints)\n",
    "obj = LpAffineExpression([(variables[i], 1) for i in range(num_vars)])\n",
    "model += obj\n",
    "\n",
    "\n",
    "for constraint in constraints:\n",
    "    model += constraint\n",
    "model.solve()\n",
    "for variable in variables:\n",
    "    print(f\"{variable.name}: {variable.value()}\")\n",
    "\n",
    "print(f\"Optimal objective value: {model.objective.value()}\")"
   ]
  },
  {
   "cell_type": "code",
   "execution_count": 6,
   "id": "0238cafa",
   "metadata": {},
   "outputs": [
    {
     "name": "stdout",
     "output_type": "stream",
     "text": [
      "[-1*x1 + 1*y1 + 0*y2 + 0*y3 + 0*y4 + 1*y5 + 0*y6 + 1*y7 + 0 >= 0, -1*x2 + 1*y1 + 1*y2 + 0*y3 + 0*y4 + 1*y5 + 0*y6 + 1*y7 + 0 >= 0, -1*x3 + 1*y1 + 0*y2 + 1*y3 + 0*y4 + 1*y5 + 0*y6 + 0*y7 + 0 >= 0, -1*x4 + 0*y1 + 1*y2 + 0*y3 + 1*y4 + 1*y5 + 0*y6 + 0*y7 + 0 >= 0, -1*x5 + 0*y1 + 0*y2 + 1*y3 + 1*y4 + 0*y5 + 1*y6 + 0*y7 + 0 >= 0, -1*x6 + 0*y1 + 0*y2 + 0*y3 + 1*y4 + 1*y5 + 1*y6 + 0*y7 + 0 >= 0, -1*x7 + 1*y1 + 0*y2 + 0*y3 + 0*y4 + 1*y5 + 1*y6 + 0*y7 + 0 >= 0]\n",
      "x1: 0.0\n",
      "x2: 0.0\n",
      "x3: 1.0\n",
      "x4: 0.0\n",
      "x5: 1.0\n",
      "x6: 0.0\n",
      "x7: 0.0\n",
      "Optimal objective value: 0.0\n"
     ]
    }
   ],
   "source": [
    "###예제 8번###\n",
    "from pulp import *\n",
    "num_vars = 7\n",
    "model = LpProblem(name='example8', sense=LpMinimize)\n",
    "xvariables = [LpVariable(name=f\"x{i+1}\", lowBound=0, cat ='Binary') for i in range(num_vars)]\n",
    "yvariables = [LpVariable(name=f\"y{i+1}\", lowBound=0, cat ='Binary') for i in range(num_vars)]\n",
    "constraints = []\n",
    "constr_1_coeffs = ([1,0,0,0,1,0,1],[1,1,0,0,1,0,1],[1,0,1,0,1,0,0],[0,1,0,1,1,0,0],\n",
    "                  [0,0,1,1,0,1,0],[0,0,0,1,1,1,0],[1,0,0,0,1,1,0])\n",
    "for i in range(num_vars):\n",
    "    rhs_values = [0,0,0,0,0,0,0]\n",
    "    constr_sup = LpConstraint(\n",
    "        e=LpAffineExpression([(yvariables[j],constr_1_coeffs[i][j]) for j in range(num_vars)] + [(xvariables[i], -1)]),\n",
    "        sense=LpConstraintGE,\n",
    "        rhs=rhs_values[i],\n",
    "        name=f\"constraint_sup{i + 1}\"\n",
    "    )\n",
    "    constraints.append(constr_sup)\n",
    "print(constraints)\n",
    "obj = LpAffineExpression([(xvariables[i], 1) for i in range(num_vars)])\n",
    "model += obj\n",
    "\n",
    "\n",
    "for constraint in constraints:\n",
    "    model += constraint\n",
    "model.solve()\n",
    "for variable in variables:\n",
    "    print(f\"{variable.name}: {variable.value()}\")\n",
    "\n",
    "print(f\"Optimal objective value: {model.objective.value()}\")"
   ]
  },
  {
   "cell_type": "code",
   "execution_count": 24,
   "id": "ea481b4e",
   "metadata": {},
   "outputs": [
    {
     "name": "stdout",
     "output_type": "stream",
     "text": [
      "[-1*x1 + 1*y1 + 1*y2 + 0*y3 + 0*y4 + 0*y5 + 0*y6 + 0 >= 0, -1*x2 + 1*y1 + 1*y2 + 0*y3 + 1*y4 + 0*y5 + 0*y6 + 0 >= 0, -1*x3 + 0*y1 + 0*y2 + 1*y3 + 1*y4 + 1*y5 + 0*y6 + 0 >= 0, -1*x4 + 0*y1 + 1*y2 + 1*y3 + 1*y4 + 0*y5 + 1*y6 + 0 >= 0, -1*x5 + 0*y1 + 0*y2 + 1*y3 + 0*y4 + 1*y5 + 1*y6 + 0 >= 0, -1*x6 + 0*y1 + 0*y2 + 0*y3 + 1*y4 + 1*y5 + 1*y6 + 0 >= 0]\n",
      "[1*y1 + 1*y2 + 1*y3 + 1*y4 + 1*y5 + 1*y6 + -3 <= 0]\n"
     ]
    }
   ],
   "source": [
    "num_vars = 6\n",
    "var_x = [LpVariable(name=f\"x{i}\", lowBound=0, cat=\"Binary\") for i in range(1, num_vars + 1)]  # x1 to x6\n",
    "var_y = [LpVariable(name=f\"y{i}\", lowBound=0, cat=\"Binary\") for i in range(1, num_vars + 1)]  # y1 to y6\n",
    "\n",
    "# Define constraints\n",
    "num_constr_1 = 6  # # of constraints\n",
    "constr_1 = []  # create a constraint\n",
    "constr_1_coeffs = [[1, 1, 0, 0, 0, 0], [1, 1, 0, 1, 0, 0], [0, 0, 1, 1, 1, 0], [0, 1, 1, 1, 0, 1], [0, 0, 1, 0, 1, 1],\n",
    "                   [0, 0, 0, 1, 1, 1]]\n",
    "for i in range(num_constr_1):\n",
    "    rhs_values = [0, 0, 0, 0, 0, 0]\n",
    "    constraint = LpConstraint(\n",
    "        e=LpAffineExpression([(var_y[j], constr_1_coeffs[i][j]) for j in range(num_vars)] + [(var_x[i], -1)]),\n",
    "        sense=LpConstraintGE,\n",
    "        rhs=rhs_values[i],\n",
    "        name=f\"constraint_{i + 1}\"\n",
    "    )\n",
    "    constr_1.append(constraint)\n",
    "print(constr_1)\n",
    "num_constr_2 = 1  # # of constraints\n",
    "constr_2 = []  # create a constraint\n",
    "constr_2_coeffs = [1, 1, 1, 1, 1, 1]\n",
    "for i in range(num_constr_2):\n",
    "    rhs_values = [3]\n",
    "    constraint = LpConstraint(\n",
    "        e=LpAffineExpression([(var_y[j], constr_2_coeffs[j]) for j in range(num_vars)]),\n",
    "        sense=LpConstraintLE,\n",
    "        rhs=rhs_values[i],\n",
    "        name=f\"constraint_{num_constr_1 + i + 1}\"\n",
    "    )\n",
    "    constr_2.append(constraint)\n",
    "print(constr_2)"
   ]
  }
 ],
 "metadata": {
  "kernelspec": {
   "display_name": "Python 3 (ipykernel)",
   "language": "python",
   "name": "python3"
  },
  "language_info": {
   "codemirror_mode": {
    "name": "ipython",
    "version": 3
   },
   "file_extension": ".py",
   "mimetype": "text/x-python",
   "name": "python",
   "nbconvert_exporter": "python",
   "pygments_lexer": "ipython3",
   "version": "3.9.13"
  }
 },
 "nbformat": 4,
 "nbformat_minor": 5
}
