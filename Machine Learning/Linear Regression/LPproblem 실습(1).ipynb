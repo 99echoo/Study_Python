{
 "cells": [
  {
   "cell_type": "code",
   "execution_count": 8,
   "id": "2f298d7d",
   "metadata": {},
   "outputs": [
    {
     "name": "stdout",
     "output_type": "stream",
     "text": [
      "     fun: -39484.97707468313\n",
      "     jac: array([-3999.79882812,  3540.35498047, -3999.78076172])\n",
      " message: 'Optimization terminated successfully'\n",
      "    nfev: 91\n",
      "     nit: 22\n",
      "    njev: 19\n",
      "  status: 0\n",
      " success: True\n",
      "       x: array([ 14.3528511, -20.       ,  -4.3528511])\n"
     ]
    }
   ],
   "source": [
    "import numpy as np\n",
    "from scipy.optimize import minimize, Bounds\n",
    "fun = lambda x: -((x[0]-x[1])**3 - 50 * (x[2]**2 - x[0])**2)\n",
    "cons ={'type':'eq', 'fun' : lambda x : x[0] + x[2] - 10}\n",
    "bnd = Bounds(np.array([0,-20,-10]), np.array([100,20,10]))\n",
    "x0 = np.array([10,0,0])\n",
    "sol = minimize(fun,x0, bounds=bnd,constraints= cons)\n",
    "print(sol)"
   ]
  },
  {
   "cell_type": "code",
   "execution_count": 9,
   "id": "116348c2",
   "metadata": {},
   "outputs": [
    {
     "name": "stdout",
     "output_type": "stream",
     "text": [
      "     fun: -0.0\n",
      "     jac: array([7.45058059e-07, 2.22044605e-16, 1.65436123e-22])\n",
      " message: 'Optimization terminated successfully'\n",
      "    nfev: 4\n",
      "     nit: 1\n",
      "    njev: 1\n",
      "  status: 0\n",
      " success: True\n",
      "       x: array([0., 0., 0.])\n"
     ]
    }
   ],
   "source": [
    "import numpy as np\n",
    "from scipy.optimize import minimize, Bounds\n",
    "\n",
    "fun = lambda x: -((x[0]-x[1])**3 - 50 * (x[2]**2 - x[0])**2)\n",
    "cons = {'type':'eq', 'fun': lambda x : x[0] + x[2] - 10,\n",
    "        'type':'ineq', 'fun': lambda x : -(2*x[0]+x[1])}\n",
    "bnd = Bounds(np.array([0,-20,-10]), np.array([100,20,10]))\n",
    "x0 = np.array([10,0,0])\n",
    "sol = minimize(fun,x0, bounds=bnd, constraints=cons)\n",
    "print(sol)"
   ]
  },
  {
   "cell_type": "code",
   "execution_count": 5,
   "id": "9febf826",
   "metadata": {},
   "outputs": [
    {
     "name": "stdout",
     "output_type": "stream",
     "text": [
      "     fun: 0.03769770030297496\n",
      "     jac: array([0.07541108, 0.07528849, 0.07539805])\n",
      " message: 'Optimization terminated successfully'\n",
      "    nfev: 20\n",
      "     nit: 5\n",
      "    njev: 5\n",
      "  status: 0\n",
      " success: True\n",
      "       x: array([0.36007444, 0.06698667, 0.57293889])\n"
     ]
    },
    {
     "data": {
      "text/plain": [
       "0.049729267036625426"
      ]
     },
     "execution_count": 5,
     "metadata": {},
     "output_type": "execute_result"
    }
   ],
   "source": [
    "import pandas as pd\n",
    "import numpy as np\n",
    "from scipy.optimize import minimize\n",
    "\n",
    "H = np.array([[0.2,0.001,-0.060],[0.001,0.300,0.030],[-0.060,0.030,0.100]])\n",
    "\n",
    "w = np.array([0.05,0.07,0.08])\n",
    "\n",
    "dim=len(H)\n",
    "\n",
    "var = lambda x : np.dot(np.dot(x,H),x)\n",
    "\n",
    "def goal(a,b):\n",
    "     hi = np.dot(np.dot(a,b),a)\n",
    "     return hi**(1/2)\n",
    "\n",
    "cons={'type':'eq','fun': lambda x: np.sum(x)-1}\n",
    "\n",
    "x0=np.ones(dim)*(1/dim)\n",
    "\n",
    "globalminport=minimize(var,x0,constraints=cons)\n",
    "\n",
    "print(globalminport)\n",
    "\n",
    "### 기대수익률 편차###\n",
    "goal(w,H)\n",
    "\n"
   ]
  }
 ],
 "metadata": {
  "kernelspec": {
   "display_name": "Python 3 (ipykernel)",
   "language": "python",
   "name": "python3"
  },
  "language_info": {
   "codemirror_mode": {
    "name": "ipython",
    "version": 3
   },
   "file_extension": ".py",
   "mimetype": "text/x-python",
   "name": "python",
   "nbconvert_exporter": "python",
   "pygments_lexer": "ipython3",
   "version": "3.9.13"
  }
 },
 "nbformat": 4,
 "nbformat_minor": 5
}
