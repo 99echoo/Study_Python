{
 "cells": [
  {
   "cell_type": "code",
   "execution_count": null,
   "id": "79a9dcf0",
   "metadata": {},
   "outputs": [],
   "source": [
    "import random\n",
    "\n",
    "def getFunctionValue(x):\n",
    "    result = x**2 + 3*x + 2\n",
    "    return result\n",
    "\n",
    "def getSlopeValue(x, delta=0.001):\n",
    "    slope = 2 * x + 3\n",
    "    return slope\n",
    "\n",
    "def main():\n",
    "    x_0 = random.uniform(-10, 10)\n",
    "    learningRate = 0.1\n",
    "    tol = 0.00001\n",
    "\n",
    "    while abs(getSlopeValue(x_0)) > tol:\n",
    "        x_0 = x_0 - learningRate * getSlopeValue(x_0)\n",
    "\n",
    "    print(\"Found minimum point:\", x_0)\n",
    "\n",
    "if __name__ == \"__main__\":\n",
    "    main()"
   ]
  },
  {
   "cell_type": "code",
   "execution_count": 2,
   "id": "ba982cdc",
   "metadata": {},
   "outputs": [],
   "source": [
    "def getfunctionvalue(x):\n",
    "    result = x**2 + 3*x + 2\n",
    "    return result\n",
    "\n",
    "\n",
    "def getslopevalue(x):\n",
    "    delta = 0.0000001\n",
    "    slope = getfunctionvalue(x+delta)-getfunctionvalue(x-delta)/(2*delta)\n",
    "    return slope\n",
    "\n",
    "def main():\n",
    "    x_0 = random.uniform(-10,10)\n",
    "    learingRate = 0.1 \n",
    "    tol = 0.00001\n",
    "    print(getfunctionvalue(x_0))\n",
    "\n",
    "    while abs(getfunctionvalue(x_0)) > tol:\n",
    "        x_0 = x_0 - learningRate * getslopevalue(x_0)\n",
    "        print(x_0)\n",
    "\n",
    "    print(\"finded minimum point\" , x_0)\n"
   ]
  },
  {
   "cell_type": "code",
   "execution_count": null,
   "id": "7c4afd79",
   "metadata": {},
   "outputs": [],
   "source": []
  },
  {
   "cell_type": "code",
   "execution_count": null,
   "id": "c4c695eb",
   "metadata": {},
   "outputs": [],
   "source": []
  }
 ],
 "metadata": {
  "kernelspec": {
   "display_name": "Python 3 (ipykernel)",
   "language": "python",
   "name": "python3"
  },
  "language_info": {
   "codemirror_mode": {
    "name": "ipython",
    "version": 3
   },
   "file_extension": ".py",
   "mimetype": "text/x-python",
   "name": "python",
   "nbconvert_exporter": "python",
   "pygments_lexer": "ipython3",
   "version": "3.9.13"
  }
 },
 "nbformat": 4,
 "nbformat_minor": 5
}
