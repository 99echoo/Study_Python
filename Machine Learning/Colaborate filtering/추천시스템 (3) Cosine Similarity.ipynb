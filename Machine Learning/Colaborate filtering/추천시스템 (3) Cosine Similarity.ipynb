{
 "cells": [
  {
   "cell_type": "code",
   "execution_count": 3,
   "id": "19475d72",
   "metadata": {},
   "outputs": [
    {
     "name": "stdout",
     "output_type": "stream",
     "text": [
      "                                    action  adventure  animation  children  comedy  crime  documentary  drama  fantasy  fi  film  genres  horror  imax  listed  musical  mystery  no  noir  romance  sci  thriller  war  western\n",
      "title                                                                                                                                                                                                                           \n",
      "Toy Story (1995)                         0          1          1         1       1      0            0      0        1   0     0       0       0     0       0        0        0   0     0        0    0         0    0        0\n",
      "Jumanji (1995)                           0          1          0         1       0      0            0      0        1   0     0       0       0     0       0        0        0   0     0        0    0         0    0        0\n",
      "Grumpier Old Men (1995)                  0          0          0         0       1      0            0      0        0   0     0       0       0     0       0        0        0   0     0        1    0         0    0        0\n",
      "Waiting to Exhale (1995)                 0          0          0         0       1      0            0      1        0   0     0       0       0     0       0        0        0   0     0        1    0         0    0        0\n",
      "Father of the Bride Part II (1995)       0          0          0         0       1      0            0      0        0   0     0       0       0     0       0        0        0   0     0        0    0         0    0        0\n"
     ]
    }
   ],
   "source": [
    "import pandas as pd\n",
    "from sklearn.feature_extraction.text import CountVectorizer\n",
    "\n",
    "rawMovies = pd.read_csv(\"C:/Users/user/Downloads/Provided Code_TF-IDF/movies.csv\")\n",
    "\n",
    "vectorize = CountVectorizer()\n",
    "bow = vectorize.fit_transform(rawMovies['genres'])\n",
    "bow_df = pd.DataFrame(bow.toarray(),columns=vectorize.get_feature_names_out())\n",
    "bow_df.set_index(rawMovies['title'],inplace=True)\n",
    "print(bow_df.head(5).to_string())"
   ]
  },
  {
   "cell_type": "code",
   "execution_count": 4,
   "id": "750307fa",
   "metadata": {},
   "outputs": [
    {
     "name": "stdout",
     "output_type": "stream",
     "text": [
      "title\n",
      "Toy Story (1995)                             5\n",
      "Jumanji (1995)                               3\n",
      "Grumpier Old Men (1995)                      2\n",
      "Waiting to Exhale (1995)                     3\n",
      "Father of the Bride Part II (1995)           1\n",
      "                                            ..\n",
      "Black Butler: Book of the Atlantic (2017)    4\n",
      "No Game No Life: Zero (2017)                 3\n",
      "Flint (2017)                                 1\n",
      "Bungo Stray Dogs: Dead Apple (2018)          2\n",
      "Andrew Dice Clay: Dice Rules (1991)          1\n",
      "Length: 9742, dtype: int64\n",
      "                                    action  adventure  animation  children    comedy  crime  documentary     drama   fantasy   fi  film  genres  horror  imax  listed  musical  mystery   no  noir   romance  sci  thriller  war  western\n",
      "title                                                                                                                                                                                                                                    \n",
      "Toy Story (1995)                       0.0   0.200000        0.2  0.200000  0.200000    0.0          0.0  0.000000  0.200000  0.0   0.0     0.0     0.0   0.0     0.0      0.0      0.0  0.0   0.0  0.000000  0.0       0.0  0.0      0.0\n",
      "Jumanji (1995)                         0.0   0.333333        0.0  0.333333  0.000000    0.0          0.0  0.000000  0.333333  0.0   0.0     0.0     0.0   0.0     0.0      0.0      0.0  0.0   0.0  0.000000  0.0       0.0  0.0      0.0\n",
      "Grumpier Old Men (1995)                0.0   0.000000        0.0  0.000000  0.500000    0.0          0.0  0.000000  0.000000  0.0   0.0     0.0     0.0   0.0     0.0      0.0      0.0  0.0   0.0  0.500000  0.0       0.0  0.0      0.0\n",
      "Waiting to Exhale (1995)               0.0   0.000000        0.0  0.000000  0.333333    0.0          0.0  0.333333  0.000000  0.0   0.0     0.0     0.0   0.0     0.0      0.0      0.0  0.0   0.0  0.333333  0.0       0.0  0.0      0.0\n",
      "Father of the Bride Part II (1995)     0.0   0.000000        0.0  0.000000  1.000000    0.0          0.0  0.000000  0.000000  0.0   0.0     0.0     0.0   0.0     0.0      0.0      0.0  0.0   0.0  0.000000  0.0       0.0  0.0      0.0\n"
     ]
    }
   ],
   "source": [
    "totalKeywordsCnt = bow_df.sum(axis=1)\n",
    "print(totalKeywordsCnt)\n",
    "\n",
    "tf_df = bow_df.divide(totalKeywordsCnt, axis=0)\n",
    "print(tf_df.head(5).to_string())"
   ]
  },
  {
   "cell_type": "code",
   "execution_count": 5,
   "id": "fe25b5aa",
   "metadata": {},
   "outputs": [
    {
     "name": "stdout",
     "output_type": "stream",
     "text": [
      "action       1.672677\n",
      "adventure    2.042165\n",
      "animation    2.767469\n",
      "children     2.684415\n",
      "comedy       0.952826\n"
     ]
    }
   ],
   "source": [
    "import  math\n",
    "num_documents = len(bow_df)\n",
    "idf_df = bow_df.apply(lambda col: math.log(num_documents / (sum(col) + 1)))\n",
    "print(idf_df.head(5).to_string())"
   ]
  },
  {
   "cell_type": "code",
   "execution_count": 6,
   "id": "1a74546c",
   "metadata": {},
   "outputs": [
    {
     "name": "stdout",
     "output_type": "stream",
     "text": [
      "                                    action  adventure  animation  children    comedy  crime  documentary     drama   fantasy   fi  film  genres  horror  imax  listed  musical  mystery   no  noir   romance  sci  thriller  war  western\n",
      "title                                                                                                                                                                                                                                    \n",
      "Toy Story (1995)                       0.0   0.408433   0.553494  0.536883  0.190565    0.0          0.0  0.000000  0.504982  0.0   0.0     0.0     0.0   0.0     0.0      0.0      0.0  0.0   0.0  0.000000  0.0       0.0  0.0      0.0\n",
      "Jumanji (1995)                         0.0   0.680722   0.000000  0.894805  0.000000    0.0          0.0  0.000000  0.841636  0.0   0.0     0.0     0.0   0.0     0.0      0.0      0.0  0.0   0.0  0.000000  0.0       0.0  0.0      0.0\n",
      "Grumpier Old Men (1995)                0.0   0.000000   0.000000  0.000000  0.476413    0.0          0.0  0.000000  0.000000  0.0   0.0     0.0     0.0   0.0     0.0      0.0      0.0  0.0   0.0  0.904160  0.0       0.0  0.0      0.0\n",
      "Waiting to Exhale (1995)               0.0   0.000000   0.000000  0.000000  0.317609    0.0          0.0  0.267839  0.000000  0.0   0.0     0.0     0.0   0.0     0.0      0.0      0.0  0.0   0.0  0.602773  0.0       0.0  0.0      0.0\n",
      "Father of the Bride Part II (1995)     0.0   0.000000   0.000000  0.000000  0.952826    0.0          0.0  0.000000  0.000000  0.0   0.0     0.0     0.0   0.0     0.0      0.0      0.0  0.0   0.0  0.000000  0.0       0.0  0.0      0.0\n"
     ]
    }
   ],
   "source": [
    "tf_idf_matrix = tf_df * idf_df\n",
    "print(tf_idf_matrix.head(5).to_string())"
   ]
  },
  {
   "cell_type": "code",
   "execution_count": 9,
   "id": "2dc2e570",
   "metadata": {},
   "outputs": [
    {
     "name": "stdout",
     "output_type": "stream",
     "text": [
      "[[1.         0.82127694 0.08658008 ... 0.         0.46167621 0.18573055]\n",
      " [0.82127694 1.         0.         ... 0.         0.         0.        ]\n",
      " [0.08658008 0.         1.         ... 0.         0.         0.46615958]\n",
      " ...\n",
      " [0.         0.         0.         ... 1.         0.         0.        ]\n",
      " [0.46167621 0.         0.         ... 0.         1.         0.        ]\n",
      " [0.18573055 0.         0.46615958 ... 0.         0.         1.        ]]\n",
      "[[0.         0.82127694 0.08658008 ... 0.         0.46167621 0.18573055]\n",
      " [0.82127694 0.         0.         ... 0.         0.         0.        ]\n",
      " [0.08658008 0.         0.         ... 0.         0.         0.46615958]\n",
      " ...\n",
      " [0.         0.         0.         ... 0.         0.         0.        ]\n",
      " [0.46167621 0.         0.         ... 0.         0.         0.        ]\n",
      " [0.18573055 0.         0.46615958 ... 0.         0.         0.        ]]\n"
     ]
    }
   ],
   "source": [
    "from sklearn.metrics.pairwise import cosine_similarity\n",
    "import numpy as np\n",
    "movieSimilarityMatrix = cosine_similarity(tf_idf_matrix)\n",
    "print(movieSimilarityMatrix)\n",
    "\n",
    "np.fill_diagonal(movieSimilarityMatrix,0)\n",
    "print(movieSimilarityMatrix)"
   ]
  }
 ],
 "metadata": {
  "kernelspec": {
   "display_name": "Python 3 (ipykernel)",
   "language": "python",
   "name": "python3"
  },
  "language_info": {
   "codemirror_mode": {
    "name": "ipython",
    "version": 3
   },
   "file_extension": ".py",
   "mimetype": "text/x-python",
   "name": "python",
   "nbconvert_exporter": "python",
   "pygments_lexer": "ipython3",
   "version": "3.9.13"
  }
 },
 "nbformat": 4,
 "nbformat_minor": 5
}
